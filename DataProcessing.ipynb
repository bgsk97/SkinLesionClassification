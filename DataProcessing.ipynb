{
  "nbformat": 4,
  "nbformat_minor": 0,
  "metadata": {
    "colab": {
      "name": "SummerData.ipynb",
      "provenance": [],
      "collapsed_sections": []
    },
    "kernelspec": {
      "name": "python3",
      "display_name": "Python 3"
    },
    "accelerator": "GPU"
  },
  "cells": [
    {
      "cell_type": "code",
      "metadata": {
        "id": "iOSnniJ9C_Ha",
        "colab_type": "code",
        "outputId": "07ca824e-aa13-4c43-bda8-6ee815f7d034",
        "colab": {
          "base_uri": "https://localhost:8080/",
          "height": 34
        }
      },
      "source": [
        "import pandas as pd\n",
        "import numpy as np\n",
        "from keras.preprocessing.image import ImageDataGenerator\n",
        "import os\n",
        "from sklearn.model_selection import train_test_split\n",
        "import shutil #pip install pytest-shutil\n",
        "from PIL import Image\n",
        "import PIL\n",
        "import imageio\n",
        "import matplotlib.pyplot as plt\n",
        "import glob"
      ],
      "execution_count": 0,
      "outputs": [
        {
          "output_type": "stream",
          "text": [
            "Using TensorFlow backend.\n"
          ],
          "name": "stderr"
        }
      ]
    },
    {
      "cell_type": "code",
      "metadata": {
        "id": "33HNsOHksE4_",
        "colab_type": "code",
        "outputId": "cfa82212-6b9e-4900-ea30-3dbb9dcf01b4",
        "colab": {
          "base_uri": "https://localhost:8080/",
          "height": 122
        }
      },
      "source": [
        "from google.colab import drive\n",
        "drive.mount('/content/gdrive')"
      ],
      "execution_count": 0,
      "outputs": [
        {
          "output_type": "stream",
          "text": [
            "Go to this URL in a browser: https://accounts.google.com/o/oauth2/auth?client_id=947318989803-6bn6qk8qdgf4n4g3pfee6491hc0brc4i.apps.googleusercontent.com&redirect_uri=urn%3Aietf%3Awg%3Aoauth%3A2.0%3Aoob&scope=email%20https%3A%2F%2Fwww.googleapis.com%2Fauth%2Fdocs.test%20https%3A%2F%2Fwww.googleapis.com%2Fauth%2Fdrive%20https%3A%2F%2Fwww.googleapis.com%2Fauth%2Fdrive.photos.readonly%20https%3A%2F%2Fwww.googleapis.com%2Fauth%2Fpeopleapi.readonly&response_type=code\n",
            "\n",
            "Enter your authorization code:\n",
            "··········\n",
            "Mounted at /content/gdrive\n"
          ],
          "name": "stdout"
        }
      ]
    },
    {
      "cell_type": "code",
      "metadata": {
        "id": "zKt89K-3C_Hg",
        "colab_type": "code",
        "colab": {}
      },
      "source": [
        "# Create new directory for the images\n",
        "base_dir = 'base_dir'\n",
        "os.mkdir(base_dir)"
      ],
      "execution_count": 0,
      "outputs": []
    },
    {
      "cell_type": "code",
      "metadata": {
        "id": "PPvtGfL9C_Hj",
        "colab_type": "code",
        "colab": {}
      },
      "source": [
        "# Training file directory\n",
        "train_dir = os.path.join(base_dir, 'train_dir')\n",
        "os.mkdir(train_dir)\n",
        "\n",
        "# Validation file directory\n",
        "val_dir = os.path.join(base_dir, 'val_dir')\n",
        "os.mkdir(val_dir)\n",
        "\n",
        "# Testing file directory\n",
        "test_dir = os.path.join(base_dir, 'test_dir')\n",
        "os.mkdir(test_dir)"
      ],
      "execution_count": 0,
      "outputs": []
    },
    {
      "cell_type": "code",
      "metadata": {
        "id": "FzoiPY0mC_Hm",
        "colab_type": "code",
        "colab": {}
      },
      "source": [
        "# Create new folders in training directory for each of the 7 classes\n",
        "\n",
        "nv = os.path.join(train_dir, 'nv')\n",
        "os.mkdir(nv)\n",
        "mel = os.path.join(train_dir, 'mel')\n",
        "os.mkdir(mel)\n",
        "bkl = os.path.join(train_dir, 'bkl')\n",
        "os.mkdir(bkl)\n",
        "bcc = os.path.join(train_dir, 'bcc')\n",
        "os.mkdir(bcc)\n",
        "akiec = os.path.join(train_dir, 'akiec')\n",
        "os.mkdir(akiec)\n",
        "vasc = os.path.join(train_dir, 'vasc')\n",
        "os.mkdir(vasc)\n",
        "df = os.path.join(train_dir, 'df')\n",
        "os.mkdir(df)\n",
        "\n",
        "# Create new folders in validation directory for each of the 7 classes\n",
        "\n",
        "nv = os.path.join(val_dir, 'nv')\n",
        "os.mkdir(nv)\n",
        "mel = os.path.join(val_dir, 'mel')\n",
        "os.mkdir(mel)\n",
        "bkl = os.path.join(val_dir, 'bkl')\n",
        "os.mkdir(bkl)\n",
        "bcc = os.path.join(val_dir, 'bcc')\n",
        "os.mkdir(bcc)\n",
        "akiec = os.path.join(val_dir, 'akiec')\n",
        "os.mkdir(akiec)\n",
        "vasc = os.path.join(val_dir, 'vasc')\n",
        "os.mkdir(vasc)\n",
        "df = os.path.join(val_dir, 'df')\n",
        "os.mkdir(df)\n",
        "\n",
        "# Create new folders in test directory for each of the 7 classes\n",
        "\n",
        "nv = os.path.join(test_dir, 'nv')\n",
        "os.mkdir(nv)\n",
        "mel = os.path.join(test_dir, 'mel')\n",
        "os.mkdir(mel)\n",
        "bkl = os.path.join(test_dir, 'bkl')\n",
        "os.mkdir(bkl)\n",
        "bcc = os.path.join(test_dir, 'bcc')\n",
        "os.mkdir(bcc)\n",
        "akiec = os.path.join(test_dir, 'akiec')\n",
        "os.mkdir(akiec)\n",
        "vasc = os.path.join(test_dir, 'vasc')\n",
        "os.mkdir(vasc)\n",
        "df = os.path.join(test_dir, 'df')\n",
        "os.mkdir(df)"
      ],
      "execution_count": 0,
      "outputs": []
    },
    {
      "cell_type": "code",
      "metadata": {
        "id": "42thLGxIC_Hp",
        "colab_type": "code",
        "outputId": "c40d931b-93d0-4a42-e2c7-9959a22ac42e",
        "colab": {
          "base_uri": "https://localhost:8080/",
          "height": 204
        }
      },
      "source": [
        "# Read metadata file\n",
        "mdf = pd.read_csv('../content/gdrive/My Drive/HAM10000_metadata.csv')\n",
        "\n",
        "mdf.sample(5)"
      ],
      "execution_count": 0,
      "outputs": [
        {
          "output_type": "execute_result",
          "data": {
            "text/html": [
              "<div>\n",
              "<style scoped>\n",
              "    .dataframe tbody tr th:only-of-type {\n",
              "        vertical-align: middle;\n",
              "    }\n",
              "\n",
              "    .dataframe tbody tr th {\n",
              "        vertical-align: top;\n",
              "    }\n",
              "\n",
              "    .dataframe thead th {\n",
              "        text-align: right;\n",
              "    }\n",
              "</style>\n",
              "<table border=\"1\" class=\"dataframe\">\n",
              "  <thead>\n",
              "    <tr style=\"text-align: right;\">\n",
              "      <th></th>\n",
              "      <th>lesion_id</th>\n",
              "      <th>image_id</th>\n",
              "      <th>dx</th>\n",
              "      <th>dx_type</th>\n",
              "      <th>age</th>\n",
              "      <th>sex</th>\n",
              "      <th>localization</th>\n",
              "    </tr>\n",
              "  </thead>\n",
              "  <tbody>\n",
              "    <tr>\n",
              "      <th>3988</th>\n",
              "      <td>HAM_0005946</td>\n",
              "      <td>ISIC_0026368</td>\n",
              "      <td>nv</td>\n",
              "      <td>follow_up</td>\n",
              "      <td>55.0</td>\n",
              "      <td>male</td>\n",
              "      <td>genital</td>\n",
              "    </tr>\n",
              "    <tr>\n",
              "      <th>9691</th>\n",
              "      <td>HAM_0000673</td>\n",
              "      <td>ISIC_0029659</td>\n",
              "      <td>akiec</td>\n",
              "      <td>histo</td>\n",
              "      <td>70.0</td>\n",
              "      <td>female</td>\n",
              "      <td>face</td>\n",
              "    </tr>\n",
              "    <tr>\n",
              "      <th>5353</th>\n",
              "      <td>HAM_0005687</td>\n",
              "      <td>ISIC_0027880</td>\n",
              "      <td>nv</td>\n",
              "      <td>follow_up</td>\n",
              "      <td>65.0</td>\n",
              "      <td>male</td>\n",
              "      <td>upper extremity</td>\n",
              "    </tr>\n",
              "    <tr>\n",
              "      <th>6593</th>\n",
              "      <td>HAM_0003061</td>\n",
              "      <td>ISIC_0032262</td>\n",
              "      <td>nv</td>\n",
              "      <td>follow_up</td>\n",
              "      <td>65.0</td>\n",
              "      <td>female</td>\n",
              "      <td>upper extremity</td>\n",
              "    </tr>\n",
              "    <tr>\n",
              "      <th>705</th>\n",
              "      <td>HAM_0004630</td>\n",
              "      <td>ISIC_0026576</td>\n",
              "      <td>bkl</td>\n",
              "      <td>histo</td>\n",
              "      <td>85.0</td>\n",
              "      <td>male</td>\n",
              "      <td>face</td>\n",
              "    </tr>\n",
              "  </tbody>\n",
              "</table>\n",
              "</div>"
            ],
            "text/plain": [
              "        lesion_id      image_id     dx  ...   age     sex     localization\n",
              "3988  HAM_0005946  ISIC_0026368     nv  ...  55.0    male          genital\n",
              "9691  HAM_0000673  ISIC_0029659  akiec  ...  70.0  female             face\n",
              "5353  HAM_0005687  ISIC_0027880     nv  ...  65.0    male  upper extremity\n",
              "6593  HAM_0003061  ISIC_0032262     nv  ...  65.0  female  upper extremity\n",
              "705   HAM_0004630  ISIC_0026576    bkl  ...  85.0    male             face\n",
              "\n",
              "[5 rows x 7 columns]"
            ]
          },
          "metadata": {
            "tags": []
          },
          "execution_count": 6
        }
      ]
    },
    {
      "cell_type": "code",
      "metadata": {
        "id": "-EC-KurnC_Ht",
        "colab_type": "code",
        "colab": {}
      },
      "source": [
        "# Set y as the data labels (column dx)\n",
        "y = mdf['dx']"
      ],
      "execution_count": 0,
      "outputs": []
    },
    {
      "cell_type": "code",
      "metadata": {
        "id": "pPBBXW3RC_Hw",
        "colab_type": "code",
        "outputId": "0c3c9ab7-1e99-485a-f31c-0efdff61fd0b",
        "colab": {
          "base_uri": "https://localhost:8080/",
          "height": 68
        }
      },
      "source": [
        "# Split into training, validation, and test\n",
        "val_size = 0.1\n",
        "test_size = 0.1\n",
        "mdf_train_temp, mdf_remain, y_train_temp, y_remain = train_test_split(mdf, y, test_size = (0.2), random_state = 101)\n",
        "new_test_size = np.around(test_size / (val_size + test_size),2)\n",
        "mdf_val, mdf_test, y_val, y_test = train_test_split(mdf_remain, y_remain, test_size = new_test_size, random_state = 101)\n",
        "mdf_train, mdf_discard, y_train, y_discard = train_test_split(mdf_train_temp, y_train_temp, test_size = 0.5, random_state = 101)\n",
        "#print(mdf_train_temp.shape)\n",
        "print(mdf_val.shape)\n",
        "print(mdf_test.shape)\n",
        "print(mdf_train.shape)"
      ],
      "execution_count": 0,
      "outputs": [
        {
          "output_type": "stream",
          "text": [
            "(1001, 7)\n",
            "(1002, 7)\n",
            "(4006, 7)\n"
          ],
          "name": "stdout"
        }
      ]
    },
    {
      "cell_type": "code",
      "metadata": {
        "id": "1wdqLxycC_H0",
        "colab_type": "code",
        "colab": {}
      },
      "source": [
        "# Transfer the images into folders, set the image id as the index\n",
        "mdf.set_index('image_id', inplace = True)\n",
        "\n",
        "# Get a list of the images in each of the two folders\n",
        "folder_1 = os.listdir('../content/gdrive/My Drive/ham10000_images_part_1')\n",
        "folder_2 = os.listdir('../content/gdrive/My Drive/ham10000_images_part_2')"
      ],
      "execution_count": 0,
      "outputs": []
    },
    {
      "cell_type": "code",
      "metadata": {
        "id": "I1s7hNx_C_H2",
        "colab_type": "code",
        "colab": {}
      },
      "source": [
        "# Get a list of the train and validation images\n",
        "train_list = list(mdf_train['image_id'])\n",
        "val_list = list(mdf_val['image_id'])\n",
        "test_list = list(mdf_test['image_id'])"
      ],
      "execution_count": 0,
      "outputs": []
    },
    {
      "cell_type": "code",
      "metadata": {
        "id": "n9ZbBWDAS0aq",
        "colab_type": "code",
        "outputId": "f674eac2-f8a6-4f2e-ea72-8fdc0a465976",
        "colab": {
          "base_uri": "https://localhost:8080/",
          "height": 136
        }
      },
      "source": [
        "akiec = 0\n",
        "bcc = 0\n",
        "bkl = 0\n",
        "df = 0\n",
        "mel = 0\n",
        "nv = 0\n",
        "vasc = 0\n",
        "for image in train_list:\n",
        "  r=mdf.loc[image, 'dx']\n",
        "  if r == 'akiec':\n",
        "    akiec = akiec + 1\n",
        "  if r == 'bcc':\n",
        "    bcc = bcc + 1\n",
        "  if r == 'bkl':\n",
        "    bkl = bkl + 1\n",
        "  if r == 'df':\n",
        "    df = df + 1\n",
        "  if r == 'mel':\n",
        "    mel = mel + 1\n",
        "  if r == 'nv':\n",
        "    nv = nv + 1\n",
        "  if r == 'vasc':\n",
        "    vasc = vasc + 1\n",
        "print('akiec =', akiec)\n",
        "print('bcc =', bcc)\n",
        "print('bkl =', bkl)\n",
        "print('df =', df)\n",
        "print('mel =', mel)\n",
        "print('nv =', nv)\n",
        "print('vasc =', vasc)"
      ],
      "execution_count": 0,
      "outputs": [
        {
          "output_type": "stream",
          "text": [
            "akiec = 138\n",
            "bcc = 195\n",
            "bkl = 464\n",
            "df = 46\n",
            "mel = 429\n",
            "nv = 2669\n",
            "vasc = 65\n"
          ],
          "name": "stdout"
        }
      ]
    },
    {
      "cell_type": "code",
      "metadata": {
        "id": "EV9xhG7MC_H5",
        "colab_type": "code",
        "colab": {}
      },
      "source": [
        "# Transfer the training images\n",
        "\n",
        "for image in train_list:\n",
        "    \n",
        "    fname = image + '.jpg'\n",
        "    label = mdf.loc[image, 'dx']\n",
        "    \n",
        "    if fname in folder_1:\n",
        "        # Source path to image\n",
        "        src = os.path.join('../content/gdrive/My Drive/ham10000_images_part_1', fname)\n",
        "        # Destination path to image\n",
        "        dst = os.path.join(train_dir, label, fname)\n",
        "        # Copy the image from the source to the destination\n",
        "        shutil.copyfile(src, dst)\n",
        "\n",
        "    if fname in folder_2:\n",
        "        # Source path to image\n",
        "        src = os.path.join('../content/gdrive/My Drive/ham10000_images_part_2', fname)\n",
        "        # Destination path to image\n",
        "        dst = os.path.join(train_dir, label, fname)\n",
        "        # Copy the image from the source to the destination\n",
        "        shutil.copyfile(src, dst)"
      ],
      "execution_count": 0,
      "outputs": []
    },
    {
      "cell_type": "code",
      "metadata": {
        "id": "ttLVr5RZC_H8",
        "colab_type": "code",
        "colab": {}
      },
      "source": [
        "# Transfer the validation images\n",
        "\n",
        "for image in val_list:\n",
        "\n",
        "    fname = image + '.jpg'\n",
        "    label = mdf.loc[image, 'dx']\n",
        "    \n",
        "    if fname in folder_1:\n",
        "        # Source path to image\n",
        "        src = os.path.join('../content/gdrive/My Drive/ham10000_images_part_1', fname)\n",
        "        # Destination path to image\n",
        "        dst = os.path.join(val_dir, label, fname)\n",
        "        # Copy the image from the source to the destination\n",
        "        shutil.copyfile(src, dst)\n",
        "\n",
        "    if fname in folder_2:\n",
        "        # Source path to image\n",
        "        src = os.path.join('../content/gdrive/My Drive/ham10000_images_part_2', fname)\n",
        "        # Destination path to image\n",
        "        dst = os.path.join(val_dir, label, fname)\n",
        "        # Copy the image from the source to the destination\n",
        "        shutil.copyfile(src, dst)"
      ],
      "execution_count": 0,
      "outputs": []
    },
    {
      "cell_type": "code",
      "metadata": {
        "id": "bxAjmbYVfp7r",
        "colab_type": "code",
        "colab": {}
      },
      "source": [
        "# Transfer the testing images\n",
        "\n",
        "for image in test_list:\n",
        "\n",
        "    fname = image + '.jpg'\n",
        "    label = mdf.loc[image, 'dx']\n",
        "\n",
        "    if fname in folder_1:\n",
        "        # Source path to image\n",
        "        src = os.path.join('../content/gdrive/My Drive/ham10000_images_part_1', fname)\n",
        "        # Destination path to image\n",
        "        dst = os.path.join(test_dir, label, fname)\n",
        "        # Copy the image from the source to the destination\n",
        "        shutil.copyfile(src, dst)\n",
        "\n",
        "    if fname in folder_2:\n",
        "        # Source path to image\n",
        "        src = os.path.join('../content/gdrive/My Drive/ham10000_images_part_2', fname)\n",
        "        # Destination path to image\n",
        "        dst = os.path.join(test_dir, label, fname)\n",
        "        # Copy the image from the source to the destination\n",
        "        shutil.copyfile(src, dst)"
      ],
      "execution_count": 0,
      "outputs": []
    },
    {
      "cell_type": "code",
      "metadata": {
        "id": "lCcaJrZAC_IC",
        "colab_type": "code",
        "outputId": "914666b6-8c39-4293-f608-496a0998aa71",
        "colab": {
          "base_uri": "https://localhost:8080/",
          "height": 374
        }
      },
      "source": [
        "# Check how many training images are in each folder\n",
        "\n",
        "print(len(os.listdir('base_dir/train_dir/nv')))\n",
        "print(len(os.listdir('base_dir/train_dir/mel')))\n",
        "print(len(os.listdir('base_dir/train_dir/bkl')))\n",
        "print(len(os.listdir('base_dir/train_dir/bcc')))\n",
        "print(len(os.listdir('base_dir/train_dir/akiec')))\n",
        "print(len(os.listdir('base_dir/train_dir/vasc')))\n",
        "print(len(os.listdir('base_dir/train_dir/df')))\n",
        "\n",
        "# Check how many validation images are in each folder\n",
        "\n",
        "print(len(os.listdir('base_dir/val_dir/nv')))\n",
        "print(len(os.listdir('base_dir/val_dir/mel')))\n",
        "print(len(os.listdir('base_dir/val_dir/bkl')))\n",
        "print(len(os.listdir('base_dir/val_dir/bcc')))\n",
        "print(len(os.listdir('base_dir/val_dir/akiec')))\n",
        "print(len(os.listdir('base_dir/val_dir/vasc')))\n",
        "print(len(os.listdir('base_dir/val_dir/df')))\n",
        "\n",
        "# Check how many test images are in each folder\n",
        "\n",
        "print(len(os.listdir('base_dir/test_dir/nv')))\n",
        "print(len(os.listdir('base_dir/test_dir/mel')))\n",
        "print(len(os.listdir('base_dir/test_dir/bkl')))\n",
        "print(len(os.listdir('base_dir/test_dir/bcc')))\n",
        "print(len(os.listdir('base_dir/test_dir/akiec')))\n",
        "print(len(os.listdir('base_dir/test_dir/vasc')))\n",
        "print(len(os.listdir('base_dir/test_dir/df')))"
      ],
      "execution_count": 0,
      "outputs": [
        {
          "output_type": "stream",
          "text": [
            "2669\n",
            "429\n",
            "464\n",
            "195\n",
            "138\n",
            "65\n",
            "46\n",
            "679\n",
            "106\n",
            "107\n",
            "60\n",
            "28\n",
            "13\n",
            "8\n",
            "657\n",
            "136\n",
            "111\n",
            "49\n",
            "25\n",
            "12\n",
            "12\n"
          ],
          "name": "stdout"
        }
      ]
    },
    {
      "cell_type": "code",
      "metadata": {
        "id": "27tGbIeYC_IG",
        "colab_type": "code",
        "outputId": "8163f78f-9e0d-4541-a466-c2a6beaca225",
        "colab": {
          "base_uri": "https://localhost:8080/",
          "height": 136
        }
      },
      "source": [
        "# custom rotation function by increments of 90 degrees\n",
        "import random\n",
        "def myFunc(image):\n",
        "    image = np.array(image)\n",
        "    return np.rot90(image,random.randint(1,4))\n",
        "\n",
        "# Augment the data in the training set to 4000 images\n",
        "\n",
        "class_list = ['nv', 'mel', 'bkl', 'bcc', 'akiec', 'vasc', 'df']\n",
        "\n",
        "for item in class_list:\n",
        "\n",
        "    # Create a temporary directory for the augmented images\n",
        "    aug_dir = 'aug_dir'\n",
        "    os.mkdir(aug_dir)\n",
        "\n",
        "    # Create a directory within the base dir to store images of the same class\n",
        "    img_dir = os.path.join(aug_dir, 'img_dir')\n",
        "    os.mkdir(img_dir)\n",
        "\n",
        "    # Choose a class\n",
        "    img_class = item\n",
        "\n",
        "    # List all the images in the directory\n",
        "    img_list = os.listdir('base_dir/train_dir/' + img_class)\n",
        "\n",
        "    # Copy images from the class train dir to the img_dir\n",
        "    for fname in img_list:\n",
        "        # Source path to image\n",
        "        src = os.path.join('base_dir/train_dir/' + img_class, fname)\n",
        "        # Destination path to image\n",
        "        dst = os.path.join(img_dir, fname)\n",
        "        # Copy the image from the source to the destination\n",
        "        shutil.copyfile(src, dst)\n",
        "\n",
        "    # Point to a dir containing the images and not to the images themselves\n",
        "    path = aug_dir\n",
        "    save_path = 'base_dir/train_dir/' + img_class\n",
        "\n",
        "    # Create a data generator to augment the images in real time\n",
        "    datagen = ImageDataGenerator(\n",
        "        preprocessing_function=myFunc,\n",
        "        zoom_range=0.1,\n",
        "        horizontal_flip=True,\n",
        "        vertical_flip=True,\n",
        "        brightness_range=(0.9,1.1))\n",
        "\n",
        "    batch_size = 5\n",
        "\n",
        "    aug_datagen = datagen.flow_from_directory(path,\n",
        "                                              save_to_dir=save_path,\n",
        "                                              save_prefix=fname[:-4],\n",
        "                                              save_format='jpg',\n",
        "                                              target_size=(224, 224),\n",
        "                                              batch_size=batch_size)\n",
        "\n",
        "    # Generate the augmented images and add them to the training folders\n",
        "    num_aug_images_wanted = 4000  # total number of images we want to have in each class\n",
        "    num_files = len(os.listdir(img_dir))\n",
        "    num_batches = int(np.ceil((num_aug_images_wanted - num_files) / batch_size))\n",
        "\n",
        "    # Run the generator and create about 6000 augmented images\n",
        "    for i in range(0, num_batches):\n",
        "        imgs, labels = next(aug_datagen)\n",
        "\n",
        "    # Delete temporary directory with the raw image files\n",
        "    shutil.rmtree('aug_dir')"
      ],
      "execution_count": 0,
      "outputs": [
        {
          "output_type": "stream",
          "text": [
            "Found 2669 images belonging to 1 classes.\n",
            "Found 429 images belonging to 1 classes.\n",
            "Found 464 images belonging to 1 classes.\n",
            "Found 195 images belonging to 1 classes.\n",
            "Found 138 images belonging to 1 classes.\n",
            "Found 65 images belonging to 1 classes.\n",
            "Found 46 images belonging to 1 classes.\n"
          ],
          "name": "stdout"
        }
      ]
    },
    {
      "cell_type": "code",
      "metadata": {
        "id": "xfGOEBNFfx_C",
        "colab_type": "code",
        "outputId": "4731a176-1967-48ea-f59a-8578ab5898f6",
        "colab": {
          "base_uri": "https://localhost:8080/",
          "height": 136
        }
      },
      "source": [
        "import random\n",
        "def myFunc(image):\n",
        "    image = np.array(image)\n",
        "    return np.rot90(image,random.randint(1,4))\n",
        "\n",
        "# Augment the data in the val set to 800 images\n",
        "\n",
        "class_list = ['nv', 'mel', 'bkl', 'bcc', 'akiec', 'vasc', 'df']\n",
        "\n",
        "for item in class_list:\n",
        "\n",
        "    # Create a temporary directory for the augmented images\n",
        "    aug_dir = 'aug_dir'\n",
        "    os.mkdir(aug_dir)\n",
        "\n",
        "    # Create a directory within the base dir to store images of the same class\n",
        "    img_dir = os.path.join(aug_dir, 'img_dir')\n",
        "    os.mkdir(img_dir)\n",
        "\n",
        "    # Choose a class\n",
        "    img_class = item\n",
        "\n",
        "    # List all the images in the directory\n",
        "    img_list = os.listdir('base_dir/val_dir/' + img_class)\n",
        "\n",
        "    # Copy images from the class train dir to the img_dir\n",
        "    for fname in img_list:\n",
        "        # Source path to image\n",
        "        src = os.path.join('base_dir/val_dir/' + img_class, fname)\n",
        "        # Destination path to image\n",
        "        dst = os.path.join(img_dir, fname)\n",
        "        # Copy the image from the source to the destination\n",
        "        shutil.copyfile(src, dst)\n",
        "\n",
        "    # Point to a dir containing the images and not to the images themselves\n",
        "    path = aug_dir\n",
        "    save_path = 'base_dir/val_dir/' + img_class\n",
        "\n",
        "    # Create a data generator to augment the images in real time\n",
        "    datagen = ImageDataGenerator(\n",
        "        preprocessing_function=myFunc,\n",
        "        zoom_range=0.1,\n",
        "        horizontal_flip=True,\n",
        "        vertical_flip=True,\n",
        "        brightness_range=(0.9,1.1))\n",
        "\n",
        "    batch_size = 5\n",
        "\n",
        "    aug_datagen = datagen.flow_from_directory(path,\n",
        "                                              save_to_dir=save_path,\n",
        "                                              save_prefix=fname[:-4],\n",
        "                                              save_format='jpg',\n",
        "                                              target_size=(224, 224),\n",
        "                                              batch_size=batch_size)\n",
        "\n",
        "    # Generate the augmented images and add them to the training folders\n",
        "    num_aug_images_wanted = 800  # total number of images we want to have in each class\n",
        "    num_files = len(os.listdir(img_dir))\n",
        "    num_batches = int(np.ceil((num_aug_images_wanted - num_files) / batch_size))\n",
        "\n",
        "    # Run the generator and create about 6000 augmented images\n",
        "    for i in range(0, num_batches):\n",
        "        imgs, labels = next(aug_datagen)\n",
        "\n",
        "    # Delete temporary directory with the raw image files\n",
        "    shutil.rmtree('aug_dir')"
      ],
      "execution_count": 0,
      "outputs": [
        {
          "output_type": "stream",
          "text": [
            "Found 679 images belonging to 1 classes.\n",
            "Found 106 images belonging to 1 classes.\n",
            "Found 107 images belonging to 1 classes.\n",
            "Found 60 images belonging to 1 classes.\n",
            "Found 28 images belonging to 1 classes.\n",
            "Found 13 images belonging to 1 classes.\n",
            "Found 8 images belonging to 1 classes.\n"
          ],
          "name": "stdout"
        }
      ]
    },
    {
      "cell_type": "code",
      "metadata": {
        "id": "CdMwBUbBC_IL",
        "colab_type": "code",
        "colab": {}
      },
      "source": [
        "# Resizing\n",
        "class_list = ['mel', 'bkl', 'bcc', 'akiec', 'vasc', 'df','nv']\n",
        "cwd = os.getcwd()\n",
        "for item in class_list:\n",
        "    for fname in os.listdir(os.path.join(cwd, 'base_dir', 'train_dir', item)):\n",
        "        if len(fname) == 16:\n",
        "            img = Image.open(os.path.join(os.path.join(cwd, 'base_dir', 'train_dir', item), fname))\n",
        "            img = img.resize((224,224))\n",
        "            img.save(os.path.join(os.path.join(cwd, 'base_dir', 'train_dir', item), fname), 'JPEG')\n",
        "                     \n",
        "for item in class_list:\n",
        "    for fname in os.listdir(os.path.join(cwd, 'base_dir', 'val_dir', item)):\n",
        "        if len(fname) == 16:\n",
        "            img = Image.open(os.path.join(os.path.join(cwd, 'base_dir', 'val_dir', item), fname))\n",
        "            img = img.resize((224,224))\n",
        "            img.save(os.path.join(os.path.join(cwd, 'base_dir', 'val_dir', item), fname), 'JPEG')\n",
        "\n",
        "for item in class_list:\n",
        "    for fname in os.listdir(os.path.join(cwd, 'base_dir', 'test_dir', item)):\n",
        "        if len(fname) == 16:\n",
        "            img = Image.open(os.path.join(os.path.join(cwd, 'base_dir', 'test_dir', item), fname))\n",
        "            img = img.resize((224,224))\n",
        "            img.save(os.path.join(os.path.join(cwd, 'base_dir', 'test_dir', item), fname), 'JPEG')"
      ],
      "execution_count": 0,
      "outputs": []
    },
    {
      "cell_type": "code",
      "metadata": {
        "id": "TaPQG0KcC_IO",
        "colab_type": "code",
        "colab": {}
      },
      "source": [
        "# new folders and transfer\n",
        "train_all = os.path.join(train_dir, 'train_all')\n",
        "os.mkdir(train_all)\n",
        "\n",
        "dst_dir = \"base_dir/train_dir/train_all\"\n",
        "for item in class_list: \n",
        "    src_dir = \"base_dir/train_dir/\" + item\n",
        "    for jpgfile in glob.iglob(os.path.join(src_dir, \"*.jpg\")):\n",
        "        shutil.copy(jpgfile, dst_dir)\n",
        "\n",
        "val_all = os.path.join(val_dir, 'val_all')\n",
        "os.mkdir(val_all)\n",
        "\n",
        "dst_dir = \"base_dir/val_dir/val_all\"\n",
        "for item in class_list: \n",
        "    src_dir = \"base_dir/val_dir/\" + item\n",
        "    for jpgfile in glob.iglob(os.path.join(src_dir, \"*.jpg\")):\n",
        "        shutil.copy(jpgfile, dst_dir)\n",
        "\n",
        "test_all = os.path.join(test_dir, 'test_all')\n",
        "os.mkdir(test_all)\n",
        "\n",
        "dst_dir = \"base_dir/test_dir/test_all\"\n",
        "for item in class_list: \n",
        "    src_dir = \"base_dir/test_dir/\" + item\n",
        "    for jpgfile in glob.iglob(os.path.join(src_dir, \"*.jpg\")):\n",
        "        shutil.copy(jpgfile, dst_dir)"
      ],
      "execution_count": 0,
      "outputs": []
    },
    {
      "cell_type": "code",
      "metadata": {
        "id": "TGvKXJTCC_IS",
        "colab_type": "code",
        "outputId": "d383c3c0-ef75-4ae6-85b3-04fc27a45d51",
        "colab": {
          "base_uri": "https://localhost:8080/",
          "height": 68
        }
      },
      "source": [
        "total_num_im = len(os.listdir(os.path.join(cwd, 'base_dir', 'train_dir', 'train_all')))\n",
        "X_train = np.ndarray(shape = (total_num_im,224,224,3), dtype = \"uint8\")\n",
        "for idx, fname in enumerate(os.listdir(os.path.join(cwd, 'base_dir', 'train_dir', 'train_all'))):\n",
        "    I = np.asarray(PIL.Image.open(\"base_dir/train_dir/train_all/\"+fname))\n",
        "    X_train[idx,:,:,:] = I\n",
        "print('X_train:',X_train.shape) # validate correct shape\n",
        "\n",
        "total_num_im = len(os.listdir(os.path.join(cwd, 'base_dir', 'val_dir', 'val_all')))\n",
        "X_val = np.ndarray(shape = (total_num_im,224,224,3), dtype = \"uint8\")\n",
        "for idx, fname in enumerate(os.listdir(os.path.join(cwd, 'base_dir', 'val_dir', 'val_all'))):\n",
        "    I = np.asarray(PIL.Image.open(\"base_dir/val_dir/val_all/\"+fname))\n",
        "    X_val[idx,:,:,:] = I\n",
        "print('X_val:',X_val.shape) # validate correct shape\n",
        "\n",
        "total_num_im = len(os.listdir(os.path.join(cwd, 'base_dir', 'test_dir', 'test_all')))\n",
        "X_test = np.ndarray(shape = (total_num_im,224,224,3), dtype = \"uint8\")\n",
        "for idx, fname in enumerate(os.listdir(os.path.join(cwd, 'base_dir', 'test_dir', 'test_all'))):\n",
        "    I = np.asarray(PIL.Image.open(\"base_dir/test_dir/test_all/\"+fname))\n",
        "    X_test[idx,:,:,:] = I\n",
        "print('X_test:',X_test.shape) # validate correct shape"
      ],
      "execution_count": 0,
      "outputs": [
        {
          "output_type": "stream",
          "text": [
            "X_train: (27631, 224, 224, 3)\n",
            "X_val: (5262, 224, 224, 3)\n",
            "X_test: (1002, 224, 224, 3)\n"
          ],
          "name": "stdout"
        }
      ]
    },
    {
      "cell_type": "code",
      "metadata": {
        "id": "fUsGRIFRC_IW",
        "colab_type": "code",
        "outputId": "5d78c309-e925-4b53-9b79-c72f946b772c",
        "colab": {
          "base_uri": "https://localhost:8080/",
          "height": 68
        }
      },
      "source": [
        "Y_train = []\n",
        "for idx, fname in enumerate(os.listdir(os.path.join(cwd, 'base_dir', 'train_dir', 'train_all'))):\n",
        "    label = mdf.loc[fname[0:12], 'dx']\n",
        "    Y_train.append(label)\n",
        "Y_train = pd.get_dummies(Y_train)\n",
        "Y_train = Y_train.values # convert to numpy array\n",
        "print('Y_train:',Y_train.shape) # validate correct shape\n",
        "# col1 col2 col3 col4 col5 col6 col7\n",
        "# akiec bcc  bkl  df   mel  nv   vasc\n",
        "\n",
        "Y_val = []\n",
        "for idx, fname in enumerate(os.listdir(os.path.join(cwd, 'base_dir', 'val_dir', 'val_all'))):\n",
        "    label = mdf.loc[fname[0:12], 'dx']\n",
        "    Y_val.append(label)\n",
        "Y_val = pd.get_dummies(Y_val)\n",
        "Y_val = Y_val.values\n",
        "print('Y_val:',Y_val.shape) # validate correct shape\n",
        "\n",
        "Y_test = []\n",
        "for idx, fname in enumerate(os.listdir(os.path.join(cwd, 'base_dir', 'test_dir', 'test_all'))):\n",
        "    label = mdf.loc[fname[0:12], 'dx']\n",
        "    Y_test.append(label)\n",
        "Y_test = pd.get_dummies(Y_test)\n",
        "Y_test = Y_test.values\n",
        "print('Y_test:',Y_test.shape) # validate correct shape"
      ],
      "execution_count": 0,
      "outputs": [
        {
          "output_type": "stream",
          "text": [
            "Y_train: (27631, 7)\n",
            "Y_val: (5262, 7)\n",
            "Y_test: (1002, 7)\n"
          ],
          "name": "stdout"
        }
      ]
    },
    {
      "cell_type": "code",
      "metadata": {
        "id": "ILPdfaVlBZjp",
        "colab_type": "code",
        "outputId": "a8104ec9-1035-4feb-b65c-eccff1f63e4c",
        "colab": {
          "base_uri": "https://localhost:8080/",
          "height": 374
        }
      },
      "source": [
        "print(len(os.listdir('base_dir/train_dir/nv')))\n",
        "print(len(os.listdir('base_dir/train_dir/mel')))\n",
        "print(len(os.listdir('base_dir/train_dir/bkl')))\n",
        "print(len(os.listdir('base_dir/train_dir/bcc')))\n",
        "print(len(os.listdir('base_dir/train_dir/akiec')))\n",
        "print(len(os.listdir('base_dir/train_dir/vasc')))\n",
        "print(len(os.listdir('base_dir/train_dir/df')))\n",
        "\n",
        "print(len(os.listdir('base_dir/val_dir/nv')))\n",
        "print(len(os.listdir('base_dir/val_dir/mel')))\n",
        "print(len(os.listdir('base_dir/val_dir/bkl')))\n",
        "print(len(os.listdir('base_dir/val_dir/bcc')))\n",
        "print(len(os.listdir('base_dir/val_dir/akiec')))\n",
        "print(len(os.listdir('base_dir/val_dir/vasc')))\n",
        "print(len(os.listdir('base_dir/val_dir/df')))\n",
        "\n",
        "print(len(os.listdir('base_dir/test_dir/nv')))\n",
        "print(len(os.listdir('base_dir/test_dir/mel')))\n",
        "print(len(os.listdir('base_dir/test_dir/bkl')))\n",
        "print(len(os.listdir('base_dir/test_dir/bcc')))\n",
        "print(len(os.listdir('base_dir/test_dir/akiec')))\n",
        "print(len(os.listdir('base_dir/test_dir/vasc')))\n",
        "print(len(os.listdir('base_dir/test_dir/df')))"
      ],
      "execution_count": 0,
      "outputs": [
        {
          "output_type": "stream",
          "text": [
            "4004\n",
            "3996\n",
            "3997\n",
            "4000\n",
            "3949\n",
            "4000\n",
            "3685\n",
            "804\n",
            "777\n",
            "784\n",
            "800\n",
            "753\n",
            "699\n",
            "645\n",
            "657\n",
            "136\n",
            "111\n",
            "49\n",
            "25\n",
            "12\n",
            "12\n"
          ],
          "name": "stdout"
        }
      ]
    },
    {
      "cell_type": "code",
      "metadata": {
        "id": "akEDteHjC_Ia",
        "colab_type": "code",
        "colab": {}
      },
      "source": [
        "np.save(\"../content/gdrive/My Drive/X_train_APP/NumpyFiles\", X_train)\n",
        "np.save(\"../content/gdrive/My Drive/Y_train_APP/NumpyFiles\", Y_train)\n",
        "\n",
        "np.save(\"../content/gdrive/My Drive/X_val_APP/NumpyFiles\", X_val)\n",
        "np.save(\"../content/gdrive/My Drive/Y_val_APP/NumpyFiles\", Y_val)\n",
        "\n",
        "np.save(\"../content/gdrive/My Drive/X_test_APP/NumpyFiles\", X_test)\n",
        "np.save(\"../content/gdrive/My Drive/Y_test_APP/NumpyFiles\", Y_test)"
      ],
      "execution_count": 0,
      "outputs": []
    }
  ]
}